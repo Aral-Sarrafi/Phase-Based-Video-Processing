{
 "cells": [
  {
   "cell_type": "code",
   "execution_count": 28,
   "metadata": {},
   "outputs": [],
   "source": [
    "import numpy as np\n",
    "from math import *\n",
    "import matplotlib.pyplot as plt\n",
    "import cv2"
   ]
  },
  {
   "cell_type": "code",
   "execution_count": 58,
   "metadata": {},
   "outputs": [],
   "source": [
    "def Gaussian(x0, y0, sigmax, sigmay, theta):\n",
    "    imagelb = -15\n",
    "    imageup = 15\n",
    "\n",
    "    n_pixels = 512\n",
    "\n",
    "    [X,Y] = np.meshgrid(np.linspace(imagelb,imageup,n_pixels),np.linspace(imagelb,imageup,n_pixels))\n",
    "\n",
    "    A = 1\n",
    "\n",
    "    a = cos(theta)**2/(2*sigmax**2) + sin(theta)**2/(2*sigmay**2)\n",
    "    b = -sin(2*theta)/(4*sigmax**2) + sin(2*theta)/(4*sigmay**2)\n",
    "    c = sin(theta)**2/(2*sigmax**2) + cos(theta)**2/(2*sigmay**2)\n",
    "\n",
    "\n",
    "    Z = A*np.exp(-(a*np.power(X-x0,2) - 2*b*(X-x0)*(Y-y0) + c*np.power(Y-y0,2)))\n",
    "    \n",
    "    return Z"
   ]
  },
  {
   "cell_type": "code",
   "execution_count": 64,
   "metadata": {},
   "outputs": [
    {
     "data": {
      "text/plain": [
       "<matplotlib.image.AxesImage at 0x1c6f27df0f0>"
      ]
     },
     "execution_count": 64,
     "metadata": {},
     "output_type": "execute_result"
    },
    {
     "data": {
      "image/png": "[encoded data removed]",
      "text/plain": [
       "<Figure size 432x288 with 1 Axes>"
      ]
     },
     "metadata": {},
     "output_type": "display_data"
    }
   ],
   "source": [
    "x0 = -5\n",
    "y0 = 0\n",
    "sigmax = 0.5\n",
    "sigmay = 2\n",
    "theta = 0\n",
    "Z1 = Gaussian(x0, y0, sigmax, sigmay, theta)\n",
    "\n",
    "x0 = 5\n",
    "y0 = 0\n",
    "sigmax = 2\n",
    "sigmay = 0.5\n",
    "theta = 0\n",
    "Z2 = Gaussian(x0, y0, sigmax, sigmay, theta)\n",
    "\n",
    "Z =Z1 + Z2\n",
    "\n",
    "plt.imshow(Z, cmap = 'jet')"
   ]
  },
  {
   "cell_type": "code",
   "execution_count": 66,
   "metadata": {},
   "outputs": [],
   "source": [
    "def generate_frame(motion1,motion2):\n",
    "    \n",
    "    x0 = -5\n",
    "    y0 = 0\n",
    "    sigmax = 0.5\n",
    "    sigmay = 2\n",
    "    theta = 0\n",
    "    Z1 = Gaussian(x0 + motion1, y0, sigmax, sigmay, theta)\n",
    "    \n",
    "    x0 = 5\n",
    "    y0 = 0\n",
    "    sigmax = 2\n",
    "    sigmay = 0.5\n",
    "    theta = 0\n",
    "    Z2 = Gaussian(x0 + motion2, y0, sigmax, sigmay, theta)\n",
    "    \n",
    "    Z = Z1 + Z2\n",
    "    \n",
    "    return Z"
   ]
  },
  {
   "cell_type": "code",
   "execution_count": 67,
   "metadata": {},
   "outputs": [],
   "source": [
    "frame1 = generate_frame(0,0) \n",
    "frame2 = generate_frame(0.1, -0.1)"
   ]
  },
  {
   "cell_type": "code",
   "execution_count": 73,
   "metadata": {},
   "outputs": [
    {
     "ename": "AttributeError",
     "evalue": "'Figure' object has no attribute 'ravel'",
     "output_type": "error",
     "traceback": [
      "\u001b[1;31m---------------------------------------------------------------------------\u001b[0m",
      "\u001b[1;31mAttributeError\u001b[0m                            Traceback (most recent call last)",
      "\u001b[1;32m<ipython-input-73-30e4b0420b95>\u001b[0m in \u001b[0;36m<module>\u001b[1;34m()\u001b[0m\n\u001b[0;32m      1\u001b[0m \u001b[0maxs\u001b[0m\u001b[1;33m,\u001b[0m\u001b[0mfig\u001b[0m \u001b[1;33m=\u001b[0m \u001b[0mplt\u001b[0m\u001b[1;33m.\u001b[0m\u001b[0msubplots\u001b[0m\u001b[1;33m(\u001b[0m\u001b[1;36m1\u001b[0m\u001b[1;33m,\u001b[0m\u001b[1;36m2\u001b[0m\u001b[1;33m)\u001b[0m\u001b[1;33m\u001b[0m\u001b[0m\n\u001b[0;32m      2\u001b[0m \u001b[1;33m\u001b[0m\u001b[0m\n\u001b[1;32m----> 3\u001b[1;33m \u001b[0maxs\u001b[0m\u001b[1;33m.\u001b[0m\u001b[0mravel\u001b[0m\u001b[1;33m(\u001b[0m\u001b[1;33m)\u001b[0m\u001b[1;33m\u001b[0m\u001b[0m\n\u001b[0m\u001b[0;32m      4\u001b[0m \u001b[0maxs\u001b[0m\u001b[1;33m[\u001b[0m\u001b[1;36m0\u001b[0m\u001b[1;33m]\u001b[0m\u001b[1;33m.\u001b[0m\u001b[0mimshow\u001b[0m\u001b[1;33m(\u001b[0m\u001b[0mframe1\u001b[0m\u001b[1;33m)\u001b[0m\u001b[1;33m\u001b[0m\u001b[0m\n",
      "\u001b[1;31mAttributeError\u001b[0m: 'Figure' object has no attribute 'ravel'"
     ]
    },
    {
     "data": {
      "image/png": "[encoded data removed]",
      "text/plain": [
       "<Figure size 432x288 with 2 Axes>"
      ]
     },
     "metadata": {},
     "output_type": "display_data"
    }
   ],
   "source": [
    "axs,fig = plt.subplots(1,2)\n",
    "\n",
    "axs.ravel()\n",
    "axs[0].imshow(frame1)"
   ]
  },
  {
   "cell_type": "code",
   "execution_count": null,
   "metadata": {},
   "outputs": [],
   "source": []
  }
 ],
 "metadata": {
  "kernelspec": {
   "display_name": "Python [conda env:carnd-term1]",
   "language": "python",
   "name": "conda-env-carnd-term1-py"
  },
  "language_info": {
   "codemirror_mode": {
    "name": "ipython",
    "version": 3
   },
   "file_extension": ".py",
   "mimetype": "text/x-python",
   "name": "python",
   "nbconvert_exporter": "python",
   "pygments_lexer": "ipython3",
   "version": "3.5.5"
  },
  "widgets": {
   "state": {},
   "version": "1.1.2"
  }
 },
 "nbformat": 4,
 "nbformat_minor": 2
}
