{
 "cells": [
  {
   "cell_type": "code",
   "execution_count": 28,
   "metadata": {},
   "outputs": [],
   "source": [
    "import numpy as np\n",
    "from math import *\n",
    "import matplotlib.pyplot as plt\n",
    "import cv2"
   ]
  },
  {
   "cell_type": "code",
   "execution_count": 58,
   "metadata": {},
   "outputs": [],
   "source": [
    "def Gaussian(x0, y0, sigmax, sigmay, theta):\n",
    "    imagelb = -15\n",
    "    imageup = 15\n",
    "\n",
    "    n_pixels = 512\n",
    "\n",
    "    [X,Y] = np.meshgrid(np.linspace(imagelb,imageup,n_pixels),np.linspace(imagelb,imageup,n_pixels))\n",
    "\n",
    "    A = 1\n",
    "\n",
    "    a = cos(theta)**2/(2*sigmax**2) + sin(theta)**2/(2*sigmay**2)\n",
    "    b = -sin(2*theta)/(4*sigmax**2) + sin(2*theta)/(4*sigmay**2)\n",
    "    c = sin(theta)**2/(2*sigmax**2) + cos(theta)**2/(2*sigmay**2)\n",
    "\n",
    "\n",
    "    Z = A*np.exp(-(a*np.power(X-x0,2) - 2*b*(X-x0)*(Y-y0) + c*np.power(Y-y0,2)))\n",
    "    \n",
    "    return Z"
   ]
  },
  {
   "cell_type": "code",
   "execution_count": 64,
   "metadata": {},
   "outputs": [
    {
     "data": {
      "text/plain": [
       "<matplotlib.image.AxesImage at 0x1c6f27df0f0>"
      ]
     },
     "execution_count": 64,
     "metadata": {},
     "output_type": "execute_result"
    },
    {
     "data": {
      "image/png": "[encoded data removed]",
      "text/plain": [
       "<Figure size 432x288 with 1 Axes>"
      ]
     },
     "metadata": {},
     "output_type": "display_data"
    }
   ],
   "source": [
    "x0 = -5\n",
    "y0 = 0\n",
    "sigmax = 0.5\n",
    "sigmay = 2\n",
    "theta = 0\n",
    "Z1 = Gaussian(x0, y0, sigmax, sigmay, theta)\n",
    "\n",
    "x0 = 5\n",
    "y0 = 0\n",
    "sigmax = 2\n",
    "sigmay = 0.5\n",
    "theta = 0\n",
    "Z2 = Gaussian(x0, y0, sigmax, sigmay, theta)\n",
    "\n",
    "Z =Z1 + Z2\n",
    "\n",
    "plt.imshow(Z, cmap = 'jet')"
   ]
  },
  {
   "cell_type": "code",
   "execution_count": null,
   "metadata": {},
   "outputs": [],
   "source": []
  },
  {
   "cell_type": "code",
   "execution_count": 11,
   "metadata": {},
   "outputs": [
    {
     "data": {
      "text/plain": [
       "<matplotlib.image.AxesImage at 0x1c6ee9b1da0>"
      ]
     },
     "execution_count": 11,
     "metadata": {},
     "output_type": "execute_result"
    },
    {
     "data": {
      "image/png": "[encoded data removed]",
      "text/plain": [
       "<Figure size 432x288 with 1 Axes>"
      ]
     },
     "metadata": {},
     "output_type": "display_data"
    }
   ],
   "source": []
  },
  {
   "cell_type": "code",
   "execution_count": null,
   "metadata": {},
   "outputs": [],
   "source": []
  }
 ],
 "metadata": {
  "kernelspec": {
   "display_name": "Python [conda env:carnd-term1]",
   "language": "python",
   "name": "conda-env-carnd-term1-py"
  },
  "language_info": {
   "codemirror_mode": {
    "name": "ipython",
    "version": 3
   },
   "file_extension": ".py",
   "mimetype": "text/x-python",
   "name": "python",
   "nbconvert_exporter": "python",
   "pygments_lexer": "ipython3",
   "version": "3.5.5"
  },
  "widgets": {
   "state": {},
   "version": "1.1.2"
  }
 },
 "nbformat": 4,
 "nbformat_minor": 2
}
