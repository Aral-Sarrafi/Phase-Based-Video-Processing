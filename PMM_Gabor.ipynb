{
 "cells": [
  {
   "cell_type": "code",
   "execution_count": 1,
   "metadata": {},
   "outputs": [],
   "source": [
    "import numpy as np\n",
    "from math import *\n",
    "import matplotlib.pyplot as plt\n",
    "from scipy.signal import convolve2d"
   ]
  },
  {
   "cell_type": "code",
   "execution_count": 2,
   "metadata": {},
   "outputs": [],
   "source": [
    "def Gabor(sigma, theta, f, psi, gamma):\n",
    "    sigma_x = sigma\n",
    "    sigma_y = sigma / gamma\n",
    "\n",
    "    # Bounding box\n",
    "    nstds = 3 # Number of standard deviation sigma\n",
    "    xmax = max(abs(nstds * sigma_x * np.cos(theta)), abs(nstds * sigma_y * np.sin(theta)))\n",
    "    xmax = np.ceil(max(1, xmax))\n",
    "    ymax = max(abs(nstds * sigma_x * np.sin(theta)), abs(nstds * sigma_y * np.cos(theta)))\n",
    "    ymax = np.ceil(max(1, ymax))\n",
    "    xmin = -xmax\n",
    "    ymin = -ymax\n",
    "    (x, y) = np.meshgrid(np.arange(ymin, ymax + 1), np.arange(xmin, xmax + 1))\n",
    "\n",
    "    # Rotation \n",
    "    x_theta = x * np.cos(theta) + y * np.sin(theta)\n",
    "    y_theta = -x * np.sin(theta) + y * np.cos(theta)\n",
    "\n",
    "    gb = np.exp(-.5 * (x_theta ** 2 / sigma_x ** 2 + y_theta ** 2 / sigma_y ** 2)) * (np.cos(2 * np.pi * f * x_theta + psi) + 1j*np.sin(2 * np.pi * f * x_theta + psi))\n",
    "    \n",
    "    return gb\n",
    "    "
   ]
  },
  {
   "cell_type": "code",
   "execution_count": 3,
   "metadata": {},
   "outputs": [],
   "source": [
    "theta = 0\n",
    "f = 0.1\n",
    "gamma = 1\n",
    "psi = 0\n",
    "c =0.25\n",
    "sigma = c/f\n",
    "\n",
    "gb = Gabor(sigma, theta, f, psi, gamma) \n",
    "\n",
    "G0 = np.real(gb)\n",
    "H0 = np.imag(gb)\n",
    "\n",
    "G0F = np.fft.fftshift(np.fft.fft2(G0))\n",
    "ampG0 = np.absolute(G0F)\n",
    "\n",
    "H0F = np.fft.fft2(H0)\n",
    "ampH0 = np.fft.fftshift(np.absolute(H0F))"
   ]
  },
  {
   "cell_type": "code",
   "execution_count": 4,
   "metadata": {},
   "outputs": [
    {
     "data": {
      "text/plain": [
       "<matplotlib.image.AxesImage at 0x1664bc89470>"
      ]
     },
     "execution_count": 4,
     "metadata": {},
     "output_type": "execute_result"
    },
    {
     "data": {
      "image/png": "[encoded data removed]",
      "text/plain": [
       "<Figure size 432x288 with 4 Axes>"
      ]
     },
     "metadata": {},
     "output_type": "display_data"
    }
   ],
   "source": [
    "fig, axs = plt.subplots(2,2)\n",
    "\n",
    "\n",
    "\n",
    "axs[0][0].imshow(G0)\n",
    "axs[0][1].imshow(H0)\n",
    "\n",
    "axs[1][0].imshow(ampG0)\n",
    "axs[1][1].imshow(ampH0)"
   ]
  },
  {
   "cell_type": "code",
   "execution_count": 5,
   "metadata": {},
   "outputs": [],
   "source": [
    "\"\"\"This function creats a 2D gaussian surface, we will be using this gaussian surfaces to creat the frame of our virtual video.\"\"\" \n",
    "def Gaussian(x0, y0, sigmax, sigmay, theta):\n",
    "    imagelb = -15\n",
    "    imageup = 15\n",
    "\n",
    "    n_pixels = 512\n",
    "\n",
    "    [X,Y] = np.meshgrid(np.linspace(imagelb,imageup,n_pixels),np.linspace(imagelb,imageup,n_pixels))\n",
    "\n",
    "    A = 1\n",
    "\n",
    "    a = cos(theta)**2/(2*sigmax**2) + sin(theta)**2/(2*sigmay**2)\n",
    "    b = -sin(2*theta)/(4*sigmax**2) + sin(2*theta)/(4*sigmay**2)\n",
    "    c = sin(theta)**2/(2*sigmax**2) + cos(theta)**2/(2*sigmay**2)\n",
    "\n",
    "\n",
    "    Z = A*np.exp(-(a*np.power(X-x0,2) - 2*b*(X-x0)*(Y-y0) + c*np.power(Y-y0,2)))\n",
    "    \n",
    "    return Z"
   ]
  },
  {
   "cell_type": "code",
   "execution_count": 24,
   "metadata": {},
   "outputs": [],
   "source": [
    "def generate_frame(motion1,motion2):\n",
    "    \n",
    "    x0 = -5\n",
    "    y0 = 0\n",
    "    sigmax = 0.5\n",
    "    sigmay = 2\n",
    "    theta = 0\n",
    "    Z1 = Gaussian(x0 + motion1, y0, sigmax, sigmay, theta)\n",
    "    \n",
    "    x0 = 5\n",
    "    y0 = 0\n",
    "    sigmax = 2\n",
    "    sigmay = 0.5\n",
    "    theta = 0\n",
    "    Z2 = Gaussian(x0 + motion2, y0, sigmax, sigmay, theta)\n",
    "\n",
    "    Z = Z1 + Z2\n",
    "    \n",
    "    return Z"
   ]
  },
  {
   "cell_type": "code",
   "execution_count": 25,
   "metadata": {},
   "outputs": [],
   "source": [
    "# First Frame , no motion is not applied\n",
    "frame1 = generate_frame(0,0) \n",
    "\n",
    "frame2 = generate_frame(1, 1)"
   ]
  },
  {
   "cell_type": "code",
   "execution_count": 26,
   "metadata": {},
   "outputs": [
    {
     "data": {
      "text/plain": [
       "Text(0.5,1,'Frame 2')"
      ]
     },
     "execution_count": 26,
     "metadata": {},
     "output_type": "execute_result"
    },
    {
     "data": {
      "image/png": "[encoded data removed]",
      "text/plain": [
       "<Figure size 432x288 with 2 Axes>"
      ]
     },
     "metadata": {},
     "output_type": "display_data"
    }
   ],
   "source": [
    "fig,axs = plt.subplots(1,2)\n",
    "\n",
    "axs.ravel()\n",
    "axs[0].imshow(frame1, cmap = 'jet')\n",
    "axs[0].set_title(\"Frame 1\")\n",
    "\n",
    "axs[1].imshow(frame2, cmap = 'jet')\n",
    "axs[1].set_title(\"Frame 2\")"
   ]
  },
  {
   "cell_type": "code",
   "execution_count": 43,
   "metadata": {},
   "outputs": [
    {
     "data": {
      "text/plain": [
       "<matplotlib.image.AxesImage at 0x166528b1b38>"
      ]
     },
     "execution_count": 43,
     "metadata": {},
     "output_type": "execute_result"
    },
    {
     "data": {
      "image/png": "[encoded data removed]",
      "text/plain": [
       "<Figure size 432x288 with 2 Axes>"
      ]
     },
     "metadata": {},
     "output_type": "display_data"
    }
   ],
   "source": [
    "# Check if the recunstruction is working correct\n",
    "Rows_Filt = G0.shape[0]\n",
    "Cols_Filt = G0.shape[1]\n",
    "\n",
    "Rows_img = frame1.shape[0]\n",
    "Cols_img = frame1.shape[1]\n",
    "\n",
    "N_Row = Rows_Filt + Rows_img -1\n",
    "N_Col = Cols_Filt + Cols_img -1\n",
    "\n",
    "frame1_pad = np.zeros((N_Row,N_Col))\n",
    "frame1_pad[0:Rows_img,0:Cols_img] = frame1\n",
    "\n",
    "G0_pad = np.zeros_like(frame1_pad)\n",
    "G0_pad[0:Rows_Filt,0:Cols_Filt] = G0\n",
    "\n",
    "fig, axs = plt.subplots(1,2)\n",
    "\n",
    "axs.ravel()\n",
    "\n",
    "axs[0].imshow(G0_pad)\n",
    "axs[1].imshow(frame1_pad)\n"
   ]
  },
  {
   "cell_type": "code",
   "execution_count": 57,
   "metadata": {},
   "outputs": [
    {
     "data": {
      "text/plain": [
       "Text(0.5,1,'Recunstructed Frame')"
      ]
     },
     "execution_count": 57,
     "metadata": {},
     "output_type": "execute_result"
    },
    {
     "data": {
      "image/png": "[encoded data removed]",
      "text/plain": [
       "<Figure size 432x288 with 2 Axes>"
      ]
     },
     "metadata": {},
     "output_type": "display_data"
    }
   ],
   "source": [
    "conv1 = convolve2d(frame1, G0)\n",
    "# \n",
    "eps = 10**(-10)\n",
    "recuns = np.fft.ifft2(np.fft.fft2(conv1)/(np.fft.fft2(G0_pad) + eps))\n",
    "recuns = np.real(recuns[0:Rows_img,0:Cols_img])\n",
    "\n",
    "recuns_error = abs(recuns - frame1)\n",
    "\n",
    "fig, axs = plt.subplots(1,2)\n",
    "\n",
    "axs.ravel()\n",
    "\n",
    "axs[0].imshow(frame1)\n",
    "axs[0].set_title('Original Frame')\n",
    "axs[1].imshow(recuns)\n",
    "axs[1].set_title('Recunstructed Frame')\n",
    "\n"
   ]
  },
  {
   "cell_type": "code",
   "execution_count": null,
   "metadata": {},
   "outputs": [],
   "source": []
  }
 ],
 "metadata": {
  "kernelspec": {
   "display_name": "Python [conda env:carnd-term1]",
   "language": "python",
   "name": "conda-env-carnd-term1-py"
  },
  "language_info": {
   "codemirror_mode": {
    "name": "ipython",
    "version": 3
   },
   "file_extension": ".py",
   "mimetype": "text/x-python",
   "name": "python",
   "nbconvert_exporter": "python",
   "pygments_lexer": "ipython3",
   "version": "3.5.5"
  },
  "widgets": {
   "state": {},
   "version": "1.1.2"
  }
 },
 "nbformat": 4,
 "nbformat_minor": 2
}
